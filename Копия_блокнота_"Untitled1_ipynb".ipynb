{
  "nbformat": 4,
  "nbformat_minor": 0,
  "metadata": {
    "colab": {
      "provenance": [],
      "authorship_tag": "ABX9TyOcQZ4GGe9/ZvgUle6g6vBJ",
      "include_colab_link": true
    },
    "kernelspec": {
      "name": "python3",
      "display_name": "Python 3"
    },
    "language_info": {
      "name": "python"
    }
  },
  "cells": [
    {
      "cell_type": "markdown",
      "metadata": {
        "id": "view-in-github",
        "colab_type": "text"
      },
      "source": [
        "<a href=\"https://colab.research.google.com/github/blwolhppt/ML/blob/master/%D0%9A%D0%BE%D0%BF%D0%B8%D1%8F_%D0%B1%D0%BB%D0%BE%D0%BA%D0%BD%D0%BE%D1%82%D0%B0_%22Untitled1_ipynb%22.ipynb\" target=\"_parent\"><img src=\"https://colab.research.google.com/assets/colab-badge.svg\" alt=\"Open In Colab\"/></a>"
      ]
    },
    {
      "cell_type": "markdown",
      "source": [
        "# **Контрольная работа**"
      ],
      "metadata": {
        "id": "pHQsIZ2URgs5"
      }
    },
    {
      "cell_type": "code",
      "source": [
        "from sklearn.datasets import fetch_openml\n",
        "import matplotlib.pyplot as plt\n",
        "\n",
        "data = fetch_openml('cloud')\n",
        "\n"
      ],
      "metadata": {
        "colab": {
          "base_uri": "https://localhost:8080/"
        },
        "id": "2TDWE9fURpAY",
        "outputId": "06dd4b07-9f1d-46a4-9b43-4083b3a9b331"
      },
      "execution_count": 41,
      "outputs": [
        {
          "output_type": "stream",
          "name": "stderr",
          "text": [
            "/usr/local/lib/python3.9/dist-packages/sklearn/datasets/_openml.py:301: UserWarning: Multiple active versions of the dataset matching the name cloud exist. Versions may be fundamentally different, returning version 1.\n",
            "  warn(\n",
            "/usr/local/lib/python3.9/dist-packages/sklearn/datasets/_openml.py:968: FutureWarning: The default value of `parser` will change from `'liac-arff'` to `'auto'` in 1.4. You can set `parser='auto'` to silence this warning. Therefore, an `ImportError` will be raised from 1.4 if the dataset is dense and pandas is not installed. Note that the pandas parser may return different data types. See the Notes Section in fetch_openml's API doc for details.\n",
            "  warn(\n"
          ]
        }
      ]
    },
    {
      "cell_type": "markdown",
      "source": [
        "**№2. Загрузите нужный вам датасет, выведите его основные характеристики: количество строк и столбцов, типы данных, количество значений в каждом столбце, основную статистическую информацию об атрибутах.**"
      ],
      "metadata": {
        "id": "femoNb7iRpYA"
      }
    },
    {
      "cell_type": "code",
      "source": [
        "X = data.data\n",
        "y = data.target"
      ],
      "metadata": {
        "id": "bIRYokhFSPUJ"
      },
      "execution_count": 42,
      "outputs": []
    },
    {
      "cell_type": "code",
      "source": [
        "X.info()"
      ],
      "metadata": {
        "colab": {
          "base_uri": "https://localhost:8080/"
        },
        "id": "nuclMS1ISsuY",
        "outputId": "7bd5882f-96ae-442f-e383-f1e87fbbb1c8"
      },
      "execution_count": 43,
      "outputs": [
        {
          "output_type": "stream",
          "name": "stdout",
          "text": [
            "<class 'pandas.core.frame.DataFrame'>\n",
            "RangeIndex: 108 entries, 0 to 107\n",
            "Data columns (total 5 columns):\n",
            " #   Column  Non-Null Count  Dtype   \n",
            "---  ------  --------------  -----   \n",
            " 0   seeded  108 non-null    category\n",
            " 1   season  108 non-null    category\n",
            " 2   NC      108 non-null    float64 \n",
            " 3   SC      108 non-null    float64 \n",
            " 4   NWC     108 non-null    float64 \n",
            "dtypes: category(2), float64(3)\n",
            "memory usage: 3.2 KB\n"
          ]
        }
      ]
    },
    {
      "cell_type": "code",
      "source": [
        "y.info()"
      ],
      "metadata": {
        "colab": {
          "base_uri": "https://localhost:8080/"
        },
        "id": "Jo4eX8S4S0So",
        "outputId": "d3999d5c-46c7-4c3d-eb39-394bc2cc71b6"
      },
      "execution_count": 44,
      "outputs": [
        {
          "output_type": "stream",
          "name": "stdout",
          "text": [
            "<class 'pandas.core.series.Series'>\n",
            "RangeIndex: 108 entries, 0 to 107\n",
            "Series name: TE\n",
            "Non-Null Count  Dtype  \n",
            "--------------  -----  \n",
            "108 non-null    float64\n",
            "dtypes: float64(1)\n",
            "memory usage: 992.0 bytes\n"
          ]
        }
      ]
    },
    {
      "cell_type": "code",
      "source": [
        "X.describe()"
      ],
      "metadata": {
        "colab": {
          "base_uri": "https://localhost:8080/",
          "height": 300
        },
        "id": "4QRzzwf5S3vw",
        "outputId": "b5bd5441-71d3-4373-cfed-6c98665fcd26"
      },
      "execution_count": 45,
      "outputs": [
        {
          "output_type": "execute_result",
          "data": {
            "text/plain": [
              "               NC          SC         NWC\n",
              "count  108.000000  108.000000  108.000000\n",
              "mean     1.506389    1.202130    2.192870\n",
              "std      1.431687    0.891783    1.632942\n",
              "min      0.000000    0.020000    0.040000\n",
              "25%      0.410000    0.535000    0.882500\n",
              "50%      1.285000    0.995000    1.915000\n",
              "75%      2.132500    1.662500    3.050000\n",
              "max      9.420000    4.020000    7.840000"
            ],
            "text/html": [
              "\n",
              "  <div id=\"df-5f95f3dc-137d-4f50-8d3a-37c611bbe09d\">\n",
              "    <div class=\"colab-df-container\">\n",
              "      <div>\n",
              "<style scoped>\n",
              "    .dataframe tbody tr th:only-of-type {\n",
              "        vertical-align: middle;\n",
              "    }\n",
              "\n",
              "    .dataframe tbody tr th {\n",
              "        vertical-align: top;\n",
              "    }\n",
              "\n",
              "    .dataframe thead th {\n",
              "        text-align: right;\n",
              "    }\n",
              "</style>\n",
              "<table border=\"1\" class=\"dataframe\">\n",
              "  <thead>\n",
              "    <tr style=\"text-align: right;\">\n",
              "      <th></th>\n",
              "      <th>NC</th>\n",
              "      <th>SC</th>\n",
              "      <th>NWC</th>\n",
              "    </tr>\n",
              "  </thead>\n",
              "  <tbody>\n",
              "    <tr>\n",
              "      <th>count</th>\n",
              "      <td>108.000000</td>\n",
              "      <td>108.000000</td>\n",
              "      <td>108.000000</td>\n",
              "    </tr>\n",
              "    <tr>\n",
              "      <th>mean</th>\n",
              "      <td>1.506389</td>\n",
              "      <td>1.202130</td>\n",
              "      <td>2.192870</td>\n",
              "    </tr>\n",
              "    <tr>\n",
              "      <th>std</th>\n",
              "      <td>1.431687</td>\n",
              "      <td>0.891783</td>\n",
              "      <td>1.632942</td>\n",
              "    </tr>\n",
              "    <tr>\n",
              "      <th>min</th>\n",
              "      <td>0.000000</td>\n",
              "      <td>0.020000</td>\n",
              "      <td>0.040000</td>\n",
              "    </tr>\n",
              "    <tr>\n",
              "      <th>25%</th>\n",
              "      <td>0.410000</td>\n",
              "      <td>0.535000</td>\n",
              "      <td>0.882500</td>\n",
              "    </tr>\n",
              "    <tr>\n",
              "      <th>50%</th>\n",
              "      <td>1.285000</td>\n",
              "      <td>0.995000</td>\n",
              "      <td>1.915000</td>\n",
              "    </tr>\n",
              "    <tr>\n",
              "      <th>75%</th>\n",
              "      <td>2.132500</td>\n",
              "      <td>1.662500</td>\n",
              "      <td>3.050000</td>\n",
              "    </tr>\n",
              "    <tr>\n",
              "      <th>max</th>\n",
              "      <td>9.420000</td>\n",
              "      <td>4.020000</td>\n",
              "      <td>7.840000</td>\n",
              "    </tr>\n",
              "  </tbody>\n",
              "</table>\n",
              "</div>\n",
              "      <button class=\"colab-df-convert\" onclick=\"convertToInteractive('df-5f95f3dc-137d-4f50-8d3a-37c611bbe09d')\"\n",
              "              title=\"Convert this dataframe to an interactive table.\"\n",
              "              style=\"display:none;\">\n",
              "        \n",
              "  <svg xmlns=\"http://www.w3.org/2000/svg\" height=\"24px\"viewBox=\"0 0 24 24\"\n",
              "       width=\"24px\">\n",
              "    <path d=\"M0 0h24v24H0V0z\" fill=\"none\"/>\n",
              "    <path d=\"M18.56 5.44l.94 2.06.94-2.06 2.06-.94-2.06-.94-.94-2.06-.94 2.06-2.06.94zm-11 1L8.5 8.5l.94-2.06 2.06-.94-2.06-.94L8.5 2.5l-.94 2.06-2.06.94zm10 10l.94 2.06.94-2.06 2.06-.94-2.06-.94-.94-2.06-.94 2.06-2.06.94z\"/><path d=\"M17.41 7.96l-1.37-1.37c-.4-.4-.92-.59-1.43-.59-.52 0-1.04.2-1.43.59L10.3 9.45l-7.72 7.72c-.78.78-.78 2.05 0 2.83L4 21.41c.39.39.9.59 1.41.59.51 0 1.02-.2 1.41-.59l7.78-7.78 2.81-2.81c.8-.78.8-2.07 0-2.86zM5.41 20L4 18.59l7.72-7.72 1.47 1.35L5.41 20z\"/>\n",
              "  </svg>\n",
              "      </button>\n",
              "      \n",
              "  <style>\n",
              "    .colab-df-container {\n",
              "      display:flex;\n",
              "      flex-wrap:wrap;\n",
              "      gap: 12px;\n",
              "    }\n",
              "\n",
              "    .colab-df-convert {\n",
              "      background-color: #E8F0FE;\n",
              "      border: none;\n",
              "      border-radius: 50%;\n",
              "      cursor: pointer;\n",
              "      display: none;\n",
              "      fill: #1967D2;\n",
              "      height: 32px;\n",
              "      padding: 0 0 0 0;\n",
              "      width: 32px;\n",
              "    }\n",
              "\n",
              "    .colab-df-convert:hover {\n",
              "      background-color: #E2EBFA;\n",
              "      box-shadow: 0px 1px 2px rgba(60, 64, 67, 0.3), 0px 1px 3px 1px rgba(60, 64, 67, 0.15);\n",
              "      fill: #174EA6;\n",
              "    }\n",
              "\n",
              "    [theme=dark] .colab-df-convert {\n",
              "      background-color: #3B4455;\n",
              "      fill: #D2E3FC;\n",
              "    }\n",
              "\n",
              "    [theme=dark] .colab-df-convert:hover {\n",
              "      background-color: #434B5C;\n",
              "      box-shadow: 0px 1px 3px 1px rgba(0, 0, 0, 0.15);\n",
              "      filter: drop-shadow(0px 1px 2px rgba(0, 0, 0, 0.3));\n",
              "      fill: #FFFFFF;\n",
              "    }\n",
              "  </style>\n",
              "\n",
              "      <script>\n",
              "        const buttonEl =\n",
              "          document.querySelector('#df-5f95f3dc-137d-4f50-8d3a-37c611bbe09d button.colab-df-convert');\n",
              "        buttonEl.style.display =\n",
              "          google.colab.kernel.accessAllowed ? 'block' : 'none';\n",
              "\n",
              "        async function convertToInteractive(key) {\n",
              "          const element = document.querySelector('#df-5f95f3dc-137d-4f50-8d3a-37c611bbe09d');\n",
              "          const dataTable =\n",
              "            await google.colab.kernel.invokeFunction('convertToInteractive',\n",
              "                                                     [key], {});\n",
              "          if (!dataTable) return;\n",
              "\n",
              "          const docLinkHtml = 'Like what you see? Visit the ' +\n",
              "            '<a target=\"_blank\" href=https://colab.research.google.com/notebooks/data_table.ipynb>data table notebook</a>'\n",
              "            + ' to learn more about interactive tables.';\n",
              "          element.innerHTML = '';\n",
              "          dataTable['output_type'] = 'display_data';\n",
              "          await google.colab.output.renderOutput(dataTable, element);\n",
              "          const docLink = document.createElement('div');\n",
              "          docLink.innerHTML = docLinkHtml;\n",
              "          element.appendChild(docLink);\n",
              "        }\n",
              "      </script>\n",
              "    </div>\n",
              "  </div>\n",
              "  "
            ]
          },
          "metadata": {},
          "execution_count": 45
        }
      ]
    },
    {
      "cell_type": "code",
      "source": [
        "y.describe()"
      ],
      "metadata": {
        "colab": {
          "base_uri": "https://localhost:8080/"
        },
        "id": "WK43D8O_S63P",
        "outputId": "284b59ea-5408-457f-e582-1f8786057e22"
      },
      "execution_count": 46,
      "outputs": [
        {
          "output_type": "execute_result",
          "data": {
            "text/plain": [
              "count    108.000000\n",
              "mean       1.232593\n",
              "std        1.077179\n",
              "min        0.000000\n",
              "25%        0.512500\n",
              "50%        0.910000\n",
              "75%        1.675000\n",
              "max        6.000000\n",
              "Name: TE, dtype: float64"
            ]
          },
          "metadata": {},
          "execution_count": 46
        }
      ]
    },
    {
      "cell_type": "markdown",
      "source": [
        "**№3. Прочитайте и изложите в работе общее описание датасета. Опишите, решаемую моделированием проблему.**"
      ],
      "metadata": {
        "id": "xsU3Crl4Sd4F"
      }
    },
    {
      "cell_type": "code",
      "source": [
        "X"
      ],
      "metadata": {
        "id": "AsNe_hfQTBex",
        "colab": {
          "base_uri": "https://localhost:8080/",
          "height": 423
        },
        "outputId": "a4cd6773-8b8e-40d6-8484-08a4357f06b4"
      },
      "execution_count": 47,
      "outputs": [
        {
          "output_type": "execute_result",
          "data": {
            "text/plain": [
              "    seeded  season    NC    SC   NWC\n",
              "0        S  AUTUMN  1.65  1.80  3.33\n",
              "1        U  AUTUMN  1.09  0.79  1.59\n",
              "2        S  WINTER  2.39  0.36  2.06\n",
              "3        U  WINTER  2.96  1.27  4.05\n",
              "4        S  WINTER  4.16  2.16  6.00\n",
              "..     ...     ...   ...   ...   ...\n",
              "103      U  SPRING  1.38  1.86  2.91\n",
              "104      S  SPRING  1.22  2.28  1.58\n",
              "105      U  SPRING  2.46  2.47  2.39\n",
              "106      S  SPRING  0.05  0.02  0.09\n",
              "107      U  SPRING  0.61  0.87  1.35\n",
              "\n",
              "[108 rows x 5 columns]"
            ],
            "text/html": [
              "\n",
              "  <div id=\"df-00eb9409-d245-489c-841d-cfd5fd78f525\">\n",
              "    <div class=\"colab-df-container\">\n",
              "      <div>\n",
              "<style scoped>\n",
              "    .dataframe tbody tr th:only-of-type {\n",
              "        vertical-align: middle;\n",
              "    }\n",
              "\n",
              "    .dataframe tbody tr th {\n",
              "        vertical-align: top;\n",
              "    }\n",
              "\n",
              "    .dataframe thead th {\n",
              "        text-align: right;\n",
              "    }\n",
              "</style>\n",
              "<table border=\"1\" class=\"dataframe\">\n",
              "  <thead>\n",
              "    <tr style=\"text-align: right;\">\n",
              "      <th></th>\n",
              "      <th>seeded</th>\n",
              "      <th>season</th>\n",
              "      <th>NC</th>\n",
              "      <th>SC</th>\n",
              "      <th>NWC</th>\n",
              "    </tr>\n",
              "  </thead>\n",
              "  <tbody>\n",
              "    <tr>\n",
              "      <th>0</th>\n",
              "      <td>S</td>\n",
              "      <td>AUTUMN</td>\n",
              "      <td>1.65</td>\n",
              "      <td>1.80</td>\n",
              "      <td>3.33</td>\n",
              "    </tr>\n",
              "    <tr>\n",
              "      <th>1</th>\n",
              "      <td>U</td>\n",
              "      <td>AUTUMN</td>\n",
              "      <td>1.09</td>\n",
              "      <td>0.79</td>\n",
              "      <td>1.59</td>\n",
              "    </tr>\n",
              "    <tr>\n",
              "      <th>2</th>\n",
              "      <td>S</td>\n",
              "      <td>WINTER</td>\n",
              "      <td>2.39</td>\n",
              "      <td>0.36</td>\n",
              "      <td>2.06</td>\n",
              "    </tr>\n",
              "    <tr>\n",
              "      <th>3</th>\n",
              "      <td>U</td>\n",
              "      <td>WINTER</td>\n",
              "      <td>2.96</td>\n",
              "      <td>1.27</td>\n",
              "      <td>4.05</td>\n",
              "    </tr>\n",
              "    <tr>\n",
              "      <th>4</th>\n",
              "      <td>S</td>\n",
              "      <td>WINTER</td>\n",
              "      <td>4.16</td>\n",
              "      <td>2.16</td>\n",
              "      <td>6.00</td>\n",
              "    </tr>\n",
              "    <tr>\n",
              "      <th>...</th>\n",
              "      <td>...</td>\n",
              "      <td>...</td>\n",
              "      <td>...</td>\n",
              "      <td>...</td>\n",
              "      <td>...</td>\n",
              "    </tr>\n",
              "    <tr>\n",
              "      <th>103</th>\n",
              "      <td>U</td>\n",
              "      <td>SPRING</td>\n",
              "      <td>1.38</td>\n",
              "      <td>1.86</td>\n",
              "      <td>2.91</td>\n",
              "    </tr>\n",
              "    <tr>\n",
              "      <th>104</th>\n",
              "      <td>S</td>\n",
              "      <td>SPRING</td>\n",
              "      <td>1.22</td>\n",
              "      <td>2.28</td>\n",
              "      <td>1.58</td>\n",
              "    </tr>\n",
              "    <tr>\n",
              "      <th>105</th>\n",
              "      <td>U</td>\n",
              "      <td>SPRING</td>\n",
              "      <td>2.46</td>\n",
              "      <td>2.47</td>\n",
              "      <td>2.39</td>\n",
              "    </tr>\n",
              "    <tr>\n",
              "      <th>106</th>\n",
              "      <td>S</td>\n",
              "      <td>SPRING</td>\n",
              "      <td>0.05</td>\n",
              "      <td>0.02</td>\n",
              "      <td>0.09</td>\n",
              "    </tr>\n",
              "    <tr>\n",
              "      <th>107</th>\n",
              "      <td>U</td>\n",
              "      <td>SPRING</td>\n",
              "      <td>0.61</td>\n",
              "      <td>0.87</td>\n",
              "      <td>1.35</td>\n",
              "    </tr>\n",
              "  </tbody>\n",
              "</table>\n",
              "<p>108 rows × 5 columns</p>\n",
              "</div>\n",
              "      <button class=\"colab-df-convert\" onclick=\"convertToInteractive('df-00eb9409-d245-489c-841d-cfd5fd78f525')\"\n",
              "              title=\"Convert this dataframe to an interactive table.\"\n",
              "              style=\"display:none;\">\n",
              "        \n",
              "  <svg xmlns=\"http://www.w3.org/2000/svg\" height=\"24px\"viewBox=\"0 0 24 24\"\n",
              "       width=\"24px\">\n",
              "    <path d=\"M0 0h24v24H0V0z\" fill=\"none\"/>\n",
              "    <path d=\"M18.56 5.44l.94 2.06.94-2.06 2.06-.94-2.06-.94-.94-2.06-.94 2.06-2.06.94zm-11 1L8.5 8.5l.94-2.06 2.06-.94-2.06-.94L8.5 2.5l-.94 2.06-2.06.94zm10 10l.94 2.06.94-2.06 2.06-.94-2.06-.94-.94-2.06-.94 2.06-2.06.94z\"/><path d=\"M17.41 7.96l-1.37-1.37c-.4-.4-.92-.59-1.43-.59-.52 0-1.04.2-1.43.59L10.3 9.45l-7.72 7.72c-.78.78-.78 2.05 0 2.83L4 21.41c.39.39.9.59 1.41.59.51 0 1.02-.2 1.41-.59l7.78-7.78 2.81-2.81c.8-.78.8-2.07 0-2.86zM5.41 20L4 18.59l7.72-7.72 1.47 1.35L5.41 20z\"/>\n",
              "  </svg>\n",
              "      </button>\n",
              "      \n",
              "  <style>\n",
              "    .colab-df-container {\n",
              "      display:flex;\n",
              "      flex-wrap:wrap;\n",
              "      gap: 12px;\n",
              "    }\n",
              "\n",
              "    .colab-df-convert {\n",
              "      background-color: #E8F0FE;\n",
              "      border: none;\n",
              "      border-radius: 50%;\n",
              "      cursor: pointer;\n",
              "      display: none;\n",
              "      fill: #1967D2;\n",
              "      height: 32px;\n",
              "      padding: 0 0 0 0;\n",
              "      width: 32px;\n",
              "    }\n",
              "\n",
              "    .colab-df-convert:hover {\n",
              "      background-color: #E2EBFA;\n",
              "      box-shadow: 0px 1px 2px rgba(60, 64, 67, 0.3), 0px 1px 3px 1px rgba(60, 64, 67, 0.15);\n",
              "      fill: #174EA6;\n",
              "    }\n",
              "\n",
              "    [theme=dark] .colab-df-convert {\n",
              "      background-color: #3B4455;\n",
              "      fill: #D2E3FC;\n",
              "    }\n",
              "\n",
              "    [theme=dark] .colab-df-convert:hover {\n",
              "      background-color: #434B5C;\n",
              "      box-shadow: 0px 1px 3px 1px rgba(0, 0, 0, 0.15);\n",
              "      filter: drop-shadow(0px 1px 2px rgba(0, 0, 0, 0.3));\n",
              "      fill: #FFFFFF;\n",
              "    }\n",
              "  </style>\n",
              "\n",
              "      <script>\n",
              "        const buttonEl =\n",
              "          document.querySelector('#df-00eb9409-d245-489c-841d-cfd5fd78f525 button.colab-df-convert');\n",
              "        buttonEl.style.display =\n",
              "          google.colab.kernel.accessAllowed ? 'block' : 'none';\n",
              "\n",
              "        async function convertToInteractive(key) {\n",
              "          const element = document.querySelector('#df-00eb9409-d245-489c-841d-cfd5fd78f525');\n",
              "          const dataTable =\n",
              "            await google.colab.kernel.invokeFunction('convertToInteractive',\n",
              "                                                     [key], {});\n",
              "          if (!dataTable) return;\n",
              "\n",
              "          const docLinkHtml = 'Like what you see? Visit the ' +\n",
              "            '<a target=\"_blank\" href=https://colab.research.google.com/notebooks/data_table.ipynb>data table notebook</a>'\n",
              "            + ' to learn more about interactive tables.';\n",
              "          element.innerHTML = '';\n",
              "          dataTable['output_type'] = 'display_data';\n",
              "          await google.colab.output.renderOutput(dataTable, element);\n",
              "          const docLink = document.createElement('div');\n",
              "          docLink.innerHTML = docLinkHtml;\n",
              "          element.appendChild(docLink);\n",
              "        }\n",
              "      </script>\n",
              "    </div>\n",
              "  </div>\n",
              "  "
            ]
          },
          "metadata": {},
          "execution_count": 47
        }
      ]
    },
    {
      "cell_type": "markdown",
      "source": [
        " **№4. Удалите, если нужно, нечисловые колонки в датасете.**"
      ],
      "metadata": {
        "id": "MoW40dXjTBtQ"
      }
    },
    {
      "cell_type": "markdown",
      "source": [
        "**№5. При необходимости заполните нулем пропущенные значения.**"
      ],
      "metadata": {
        "id": "_EuCBbSITKJI"
      }
    },
    {
      "cell_type": "code",
      "source": [
        "X.isna().any() "
      ],
      "metadata": {
        "colab": {
          "base_uri": "https://localhost:8080/"
        },
        "id": "4YFgnTT1TQlv",
        "outputId": "9b8695d1-24d5-41f2-ce82-84407b77f451"
      },
      "execution_count": 48,
      "outputs": [
        {
          "output_type": "execute_result",
          "data": {
            "text/plain": [
              "seeded    False\n",
              "season    False\n",
              "NC        False\n",
              "SC        False\n",
              "NWC       False\n",
              "dtype: bool"
            ]
          },
          "metadata": {},
          "execution_count": 48
        }
      ]
    },
    {
      "cell_type": "code",
      "source": [
        "from sklearn.impute import SimpleImputer\n",
        "import numpy as np\n",
        "imp = SimpleImputer(missing_values=np.nan, strategy='constant', fill_value=0)\n",
        "\n",
        "imp.fit_transform(X)"
      ],
      "metadata": {
        "colab": {
          "base_uri": "https://localhost:8080/"
        },
        "id": "MDktDZXDTXmn",
        "outputId": "1d008b78-584f-4d33-d347-d879fdeb31dd"
      },
      "execution_count": 49,
      "outputs": [
        {
          "output_type": "execute_result",
          "data": {
            "text/plain": [
              "array([['S', 'AUTUMN', 1.65, 1.8, 3.33],\n",
              "       ['U', 'AUTUMN', 1.09, 0.79, 1.59],\n",
              "       ['S', 'WINTER', 2.39, 0.36, 2.06],\n",
              "       ['U', 'WINTER', 2.96, 1.27, 4.05],\n",
              "       ['S', 'WINTER', 4.16, 2.16, 6.0],\n",
              "       ['U', 'WINTER', 2.76, 0.87, 4.17],\n",
              "       ['U', 'WINTER', 1.08, 0.85, 3.45],\n",
              "       ['S', 'WINTER', 0.26, 0.47, 0.9],\n",
              "       ['U', 'SPRING', 2.53, 1.08, 3.65],\n",
              "       ['S', 'SPRING', 2.76, 3.1, 5.06],\n",
              "       ['S', 'SPRING', 1.07, 0.64, 1.95],\n",
              "       ['U', 'SPRING', 1.42, 1.08, 1.22],\n",
              "       ['S', 'SPRING', 0.24, 0.44, 0.94],\n",
              "       ['U', 'SPRING', 0.7, 0.67, 0.94],\n",
              "       ['S', 'SUMMER', 0.97, 1.66, 2.21],\n",
              "       ['U', 'SUMMER', 1.06, 1.13, 1.46],\n",
              "       ['S', 'SUMMER', 0.13, 0.27, 0.35],\n",
              "       ['U', 'SUMMER', 0.1, 0.3, 0.34],\n",
              "       ['U', 'SUMMER', 0.38, 0.58, 0.67],\n",
              "       ['S', 'SUMMER', 0.45, 0.43, 0.44],\n",
              "       ['S', 'AUTUMN', 0.42, 0.47, 0.53],\n",
              "       ['U', 'AUTUMN', 2.24, 4.02, 2.52],\n",
              "       ['U', 'AUTUMN', 0.52, 1.32, 2.18],\n",
              "       ['S', 'AUTUMN', 0.94, 1.59, 1.73],\n",
              "       ['U', 'AUTUMN', 1.19, 0.85, 2.31],\n",
              "       ['S', 'AUTUMN', 0.76, 0.71, 1.28],\n",
              "       ['S', 'WINTER', 0.13, 0.59, 0.91],\n",
              "       ['U', 'WINTER', 1.5, 0.24, 1.15],\n",
              "       ['U', 'WINTER', 1.03, 0.22, 1.88],\n",
              "       ['S', 'WINTER', 1.87, 0.58, 2.97],\n",
              "       ['U', 'WINTER', 1.85, 1.36, 2.17],\n",
              "       ['S', 'WINTER', 2.04, 0.71, 2.22],\n",
              "       ['U', 'WINTER', 1.44, 1.0, 1.64],\n",
              "       ['S', 'WINTER', 1.46, 1.48, 0.4],\n",
              "       ['S', 'SPRING', 5.08, 1.77, 4.2],\n",
              "       ['U', 'SPRING', 0.66, 0.73, 0.91],\n",
              "       ['S', 'SPRING', 0.49, 0.55, 0.51],\n",
              "       ['U', 'SPRING', 3.27, 2.68, 3.6],\n",
              "       ['U', 'SPRING', 1.33, 0.43, 2.18],\n",
              "       ['S', 'SPRING', 0.25, 0.46, 0.89],\n",
              "       ['S', 'SUMMER', 0.69, 0.49, 0.69],\n",
              "       ['U', 'SUMMER', 2.12, 0.95, 1.82],\n",
              "       ['U', 'SPRING', 1.45, 1.47, 2.2],\n",
              "       ['S', 'SPRING', 2.13, 1.13, 2.33],\n",
              "       ['S', 'SPRING', 0.02, 0.08, 0.24],\n",
              "       ['U', 'SPRING', 0.36, 0.87, 0.57],\n",
              "       ['U', 'SPRING', 0.72, 0.99, 0.98],\n",
              "       ['S', 'SPRING', 1.02, 1.89, 2.47],\n",
              "       ['U', 'SUMMER', 0.18, 1.42, 0.71],\n",
              "       ['S', 'SUMMER', 1.83, 1.82, 3.11],\n",
              "       ['U', 'SUMMER', 0.08, 0.4, 0.57],\n",
              "       ['S', 'SUMMER', 0.0, 0.04, 0.04],\n",
              "       ['S', 'SUMMER', 0.83, 0.38, 0.7],\n",
              "       ['U', 'SUMMER', 0.01, 0.44, 0.66],\n",
              "       ['S', 'SUMMER', 2.65, 0.85, 1.48],\n",
              "       ['U', 'SUMMER', 1.27, 1.39, 1.2],\n",
              "       ['S', 'AUTUMN', 0.01, 0.23, 0.1],\n",
              "       ['U', 'AUTUMN', 0.35, 0.75, 0.2],\n",
              "       ['S', 'AUTUMN', 1.8, 1.62, 3.02],\n",
              "       ['U', 'AUTUMN', 4.44, 1.05, 3.59],\n",
              "       ['S', 'AUTUMN', 2.84, 2.44, 4.48],\n",
              "       ['U', 'AUTUMN', 2.05, 1.3, 4.04],\n",
              "       ['S', 'AUTUMN', 3.01, 1.66, 4.56],\n",
              "       ['U', 'AUTUMN', 2.58, 1.21, 3.95],\n",
              "       ['U', 'WINTER', 2.22, 0.61, 2.68],\n",
              "       ['S', 'WINTER', 0.07, 2.26, 2.08],\n",
              "       ['S', 'WINTER', 1.62, 1.16, 2.87],\n",
              "       ['U', 'WINTER', 4.34, 3.29, 6.4],\n",
              "       ['U', 'WINTER', 1.03, 0.58, 1.77],\n",
              "       ['S', 'WINTER', 1.5, 0.41, 2.56],\n",
              "       ['S', 'SPRING', 1.52, 1.62, 2.86],\n",
              "       ['U', 'SPRING', 0.37, 1.25, 1.74],\n",
              "       ['U', 'SPRING', 2.14, 1.0, 4.39],\n",
              "       ['S', 'SPRING', 2.36, 1.53, 3.03],\n",
              "       ['U', 'SPRING', 1.71, 2.03, 3.24],\n",
              "       ['S', 'SPRING', 2.12, 2.77, 4.44],\n",
              "       ['U', 'SUMMER', 1.38, 2.11, 3.01],\n",
              "       ['S', 'SUMMER', 0.21, 1.41, 0.8],\n",
              "       ['U', 'SUMMER', 0.48, 0.59, 0.68],\n",
              "       ['S', 'SUMMER', 0.01, 0.65, 0.48],\n",
              "       ['S', 'SUMMER', 0.15, 0.13, 0.42],\n",
              "       ['U', 'SUMMER', 1.32, 0.57, 1.54],\n",
              "       ['S', 'SUMMER', 2.26, 1.04, 1.27],\n",
              "       ['U', 'SUMMER', 5.95, 3.97, 5.37],\n",
              "       ['U', 'AUTUMN', 0.19, 0.28, 0.7],\n",
              "       ['S', 'AUTUMN', 0.31, 0.23, 0.83],\n",
              "       ['S', 'AUTUMN', 1.44, 3.14, 0.86],\n",
              "       ['U', 'AUTUMN', 0.3, 0.72, 1.38],\n",
              "       ['S', 'AUTUMN', 0.11, 0.14, 0.58],\n",
              "       ['U', 'AUTUMN', 3.66, 1.84, 5.36],\n",
              "       ['U', 'AUTUMN', 1.14, 0.81, 2.09],\n",
              "       ['S', 'AUTUMN', 1.3, 0.34, 2.45],\n",
              "       ['S', 'WINTER', 0.05, 0.38, 0.9],\n",
              "       ['U', 'WINTER', 1.84, 1.73, 2.33],\n",
              "       ['S', 'WINTER', 4.24, 1.67, 5.48],\n",
              "       ['U', 'WINTER', 1.99, 1.9, 3.67],\n",
              "       ['U', 'WINTER', 2.44, 1.52, 4.01],\n",
              "       ['S', 'WINTER', 2.21, 2.36, 3.25],\n",
              "       ['S', 'WINTER', 0.8, 2.25, 2.79],\n",
              "       ['U', 'WINTER', 9.42, 3.6, 7.84],\n",
              "       ['S', 'SPRING', 2.74, 3.03, 6.39],\n",
              "       ['U', 'SPRING', 0.0, 0.19, 0.06],\n",
              "       ['S', 'SPRING', 0.96, 0.64, 1.24],\n",
              "       ['U', 'SPRING', 1.38, 1.86, 2.91],\n",
              "       ['S', 'SPRING', 1.22, 2.28, 1.58],\n",
              "       ['U', 'SPRING', 2.46, 2.47, 2.39],\n",
              "       ['S', 'SPRING', 0.05, 0.02, 0.09],\n",
              "       ['U', 'SPRING', 0.61, 0.87, 1.35]], dtype=object)"
            ]
          },
          "metadata": {},
          "execution_count": 49
        }
      ]
    },
    {
      "cell_type": "markdown",
      "source": [
        "**№6. Постройте гистограммы распределения по каждому признаку.**"
      ],
      "metadata": {
        "id": "WCsNlfcHTbWH"
      }
    },
    {
      "cell_type": "code",
      "source": [
        "import pandas as pd\n",
        "\n",
        "X = pd.get_dummies(X, drop_first=True, columns=['seeded','season'])\n",
        "\n"
      ],
      "metadata": {
        "id": "SlmWrhKDcSN4"
      },
      "execution_count": 50,
      "outputs": []
    },
    {
      "cell_type": "code",
      "source": [
        "X"
      ],
      "metadata": {
        "colab": {
          "base_uri": "https://localhost:8080/",
          "height": 423
        },
        "id": "ESiE_18DdsWh",
        "outputId": "78ea7c21-f870-4ab8-91ac-4f348b0ad87d"
      },
      "execution_count": 51,
      "outputs": [
        {
          "output_type": "execute_result",
          "data": {
            "text/plain": [
              "       NC    SC   NWC  seeded_U  season_SPRING  season_SUMMER  season_WINTER\n",
              "0    1.65  1.80  3.33         0              0              0              0\n",
              "1    1.09  0.79  1.59         1              0              0              0\n",
              "2    2.39  0.36  2.06         0              0              0              1\n",
              "3    2.96  1.27  4.05         1              0              0              1\n",
              "4    4.16  2.16  6.00         0              0              0              1\n",
              "..    ...   ...   ...       ...            ...            ...            ...\n",
              "103  1.38  1.86  2.91         1              1              0              0\n",
              "104  1.22  2.28  1.58         0              1              0              0\n",
              "105  2.46  2.47  2.39         1              1              0              0\n",
              "106  0.05  0.02  0.09         0              1              0              0\n",
              "107  0.61  0.87  1.35         1              1              0              0\n",
              "\n",
              "[108 rows x 7 columns]"
            ],
            "text/html": [
              "\n",
              "  <div id=\"df-a82efed9-e1e0-4b0d-98bb-8786ced6b938\">\n",
              "    <div class=\"colab-df-container\">\n",
              "      <div>\n",
              "<style scoped>\n",
              "    .dataframe tbody tr th:only-of-type {\n",
              "        vertical-align: middle;\n",
              "    }\n",
              "\n",
              "    .dataframe tbody tr th {\n",
              "        vertical-align: top;\n",
              "    }\n",
              "\n",
              "    .dataframe thead th {\n",
              "        text-align: right;\n",
              "    }\n",
              "</style>\n",
              "<table border=\"1\" class=\"dataframe\">\n",
              "  <thead>\n",
              "    <tr style=\"text-align: right;\">\n",
              "      <th></th>\n",
              "      <th>NC</th>\n",
              "      <th>SC</th>\n",
              "      <th>NWC</th>\n",
              "      <th>seeded_U</th>\n",
              "      <th>season_SPRING</th>\n",
              "      <th>season_SUMMER</th>\n",
              "      <th>season_WINTER</th>\n",
              "    </tr>\n",
              "  </thead>\n",
              "  <tbody>\n",
              "    <tr>\n",
              "      <th>0</th>\n",
              "      <td>1.65</td>\n",
              "      <td>1.80</td>\n",
              "      <td>3.33</td>\n",
              "      <td>0</td>\n",
              "      <td>0</td>\n",
              "      <td>0</td>\n",
              "      <td>0</td>\n",
              "    </tr>\n",
              "    <tr>\n",
              "      <th>1</th>\n",
              "      <td>1.09</td>\n",
              "      <td>0.79</td>\n",
              "      <td>1.59</td>\n",
              "      <td>1</td>\n",
              "      <td>0</td>\n",
              "      <td>0</td>\n",
              "      <td>0</td>\n",
              "    </tr>\n",
              "    <tr>\n",
              "      <th>2</th>\n",
              "      <td>2.39</td>\n",
              "      <td>0.36</td>\n",
              "      <td>2.06</td>\n",
              "      <td>0</td>\n",
              "      <td>0</td>\n",
              "      <td>0</td>\n",
              "      <td>1</td>\n",
              "    </tr>\n",
              "    <tr>\n",
              "      <th>3</th>\n",
              "      <td>2.96</td>\n",
              "      <td>1.27</td>\n",
              "      <td>4.05</td>\n",
              "      <td>1</td>\n",
              "      <td>0</td>\n",
              "      <td>0</td>\n",
              "      <td>1</td>\n",
              "    </tr>\n",
              "    <tr>\n",
              "      <th>4</th>\n",
              "      <td>4.16</td>\n",
              "      <td>2.16</td>\n",
              "      <td>6.00</td>\n",
              "      <td>0</td>\n",
              "      <td>0</td>\n",
              "      <td>0</td>\n",
              "      <td>1</td>\n",
              "    </tr>\n",
              "    <tr>\n",
              "      <th>...</th>\n",
              "      <td>...</td>\n",
              "      <td>...</td>\n",
              "      <td>...</td>\n",
              "      <td>...</td>\n",
              "      <td>...</td>\n",
              "      <td>...</td>\n",
              "      <td>...</td>\n",
              "    </tr>\n",
              "    <tr>\n",
              "      <th>103</th>\n",
              "      <td>1.38</td>\n",
              "      <td>1.86</td>\n",
              "      <td>2.91</td>\n",
              "      <td>1</td>\n",
              "      <td>1</td>\n",
              "      <td>0</td>\n",
              "      <td>0</td>\n",
              "    </tr>\n",
              "    <tr>\n",
              "      <th>104</th>\n",
              "      <td>1.22</td>\n",
              "      <td>2.28</td>\n",
              "      <td>1.58</td>\n",
              "      <td>0</td>\n",
              "      <td>1</td>\n",
              "      <td>0</td>\n",
              "      <td>0</td>\n",
              "    </tr>\n",
              "    <tr>\n",
              "      <th>105</th>\n",
              "      <td>2.46</td>\n",
              "      <td>2.47</td>\n",
              "      <td>2.39</td>\n",
              "      <td>1</td>\n",
              "      <td>1</td>\n",
              "      <td>0</td>\n",
              "      <td>0</td>\n",
              "    </tr>\n",
              "    <tr>\n",
              "      <th>106</th>\n",
              "      <td>0.05</td>\n",
              "      <td>0.02</td>\n",
              "      <td>0.09</td>\n",
              "      <td>0</td>\n",
              "      <td>1</td>\n",
              "      <td>0</td>\n",
              "      <td>0</td>\n",
              "    </tr>\n",
              "    <tr>\n",
              "      <th>107</th>\n",
              "      <td>0.61</td>\n",
              "      <td>0.87</td>\n",
              "      <td>1.35</td>\n",
              "      <td>1</td>\n",
              "      <td>1</td>\n",
              "      <td>0</td>\n",
              "      <td>0</td>\n",
              "    </tr>\n",
              "  </tbody>\n",
              "</table>\n",
              "<p>108 rows × 7 columns</p>\n",
              "</div>\n",
              "      <button class=\"colab-df-convert\" onclick=\"convertToInteractive('df-a82efed9-e1e0-4b0d-98bb-8786ced6b938')\"\n",
              "              title=\"Convert this dataframe to an interactive table.\"\n",
              "              style=\"display:none;\">\n",
              "        \n",
              "  <svg xmlns=\"http://www.w3.org/2000/svg\" height=\"24px\"viewBox=\"0 0 24 24\"\n",
              "       width=\"24px\">\n",
              "    <path d=\"M0 0h24v24H0V0z\" fill=\"none\"/>\n",
              "    <path d=\"M18.56 5.44l.94 2.06.94-2.06 2.06-.94-2.06-.94-.94-2.06-.94 2.06-2.06.94zm-11 1L8.5 8.5l.94-2.06 2.06-.94-2.06-.94L8.5 2.5l-.94 2.06-2.06.94zm10 10l.94 2.06.94-2.06 2.06-.94-2.06-.94-.94-2.06-.94 2.06-2.06.94z\"/><path d=\"M17.41 7.96l-1.37-1.37c-.4-.4-.92-.59-1.43-.59-.52 0-1.04.2-1.43.59L10.3 9.45l-7.72 7.72c-.78.78-.78 2.05 0 2.83L4 21.41c.39.39.9.59 1.41.59.51 0 1.02-.2 1.41-.59l7.78-7.78 2.81-2.81c.8-.78.8-2.07 0-2.86zM5.41 20L4 18.59l7.72-7.72 1.47 1.35L5.41 20z\"/>\n",
              "  </svg>\n",
              "      </button>\n",
              "      \n",
              "  <style>\n",
              "    .colab-df-container {\n",
              "      display:flex;\n",
              "      flex-wrap:wrap;\n",
              "      gap: 12px;\n",
              "    }\n",
              "\n",
              "    .colab-df-convert {\n",
              "      background-color: #E8F0FE;\n",
              "      border: none;\n",
              "      border-radius: 50%;\n",
              "      cursor: pointer;\n",
              "      display: none;\n",
              "      fill: #1967D2;\n",
              "      height: 32px;\n",
              "      padding: 0 0 0 0;\n",
              "      width: 32px;\n",
              "    }\n",
              "\n",
              "    .colab-df-convert:hover {\n",
              "      background-color: #E2EBFA;\n",
              "      box-shadow: 0px 1px 2px rgba(60, 64, 67, 0.3), 0px 1px 3px 1px rgba(60, 64, 67, 0.15);\n",
              "      fill: #174EA6;\n",
              "    }\n",
              "\n",
              "    [theme=dark] .colab-df-convert {\n",
              "      background-color: #3B4455;\n",
              "      fill: #D2E3FC;\n",
              "    }\n",
              "\n",
              "    [theme=dark] .colab-df-convert:hover {\n",
              "      background-color: #434B5C;\n",
              "      box-shadow: 0px 1px 3px 1px rgba(0, 0, 0, 0.15);\n",
              "      filter: drop-shadow(0px 1px 2px rgba(0, 0, 0, 0.3));\n",
              "      fill: #FFFFFF;\n",
              "    }\n",
              "  </style>\n",
              "\n",
              "      <script>\n",
              "        const buttonEl =\n",
              "          document.querySelector('#df-a82efed9-e1e0-4b0d-98bb-8786ced6b938 button.colab-df-convert');\n",
              "        buttonEl.style.display =\n",
              "          google.colab.kernel.accessAllowed ? 'block' : 'none';\n",
              "\n",
              "        async function convertToInteractive(key) {\n",
              "          const element = document.querySelector('#df-a82efed9-e1e0-4b0d-98bb-8786ced6b938');\n",
              "          const dataTable =\n",
              "            await google.colab.kernel.invokeFunction('convertToInteractive',\n",
              "                                                     [key], {});\n",
              "          if (!dataTable) return;\n",
              "\n",
              "          const docLinkHtml = 'Like what you see? Visit the ' +\n",
              "            '<a target=\"_blank\" href=https://colab.research.google.com/notebooks/data_table.ipynb>data table notebook</a>'\n",
              "            + ' to learn more about interactive tables.';\n",
              "          element.innerHTML = '';\n",
              "          dataTable['output_type'] = 'display_data';\n",
              "          await google.colab.output.renderOutput(dataTable, element);\n",
              "          const docLink = document.createElement('div');\n",
              "          docLink.innerHTML = docLinkHtml;\n",
              "          element.appendChild(docLink);\n",
              "        }\n",
              "      </script>\n",
              "    </div>\n",
              "  </div>\n",
              "  "
            ]
          },
          "metadata": {},
          "execution_count": 51
        }
      ]
    },
    {
      "cell_type": "code",
      "source": [
        "fig, axes = plt.subplots(len(X.columns), 1, figsize=(4, 8))\n",
        "\n",
        "for i, col in enumerate(X.columns):\n",
        "    X[col].plot(kind='hist', bins=10, ax=axes[i], color='green')"
      ],
      "metadata": {
        "colab": {
          "base_uri": "https://localhost:8080/",
          "height": 676
        },
        "id": "lmfwGBxYTiAQ",
        "outputId": "782eb9a6-75d5-4517-accd-033699bed80c"
      },
      "execution_count": 52,
      "outputs": [
        {
          "output_type": "display_data",
          "data": {
            "text/plain": [
              "<Figure size 400x800 with 7 Axes>"
            ],
            "image/png": "[encoded data removed]"
          },
          "metadata": {}
        }
      ]
    },
    {
      "cell_type": "markdown",
      "source": [
        "**№7. Постройте модель машинного обучения, обучите ее на всем датасете.**"
      ],
      "metadata": {
        "id": "dtqKgYmTT0Qy"
      }
    },
    {
      "cell_type": "code",
      "source": [
        "from sklearn.linear_model import LinearRegression\n",
        "\n",
        "model = LinearRegression()\n",
        "\n",
        "model.fit(X, y)\n",
        "y_pred = model.predict(X)\n"
      ],
      "metadata": {
        "id": "cnT5hOppT93s"
      },
      "execution_count": 53,
      "outputs": []
    },
    {
      "cell_type": "markdown",
      "source": [
        "**№8. Измерьте эффективность данной модели и сделайте вывод о ее применимости на практике.**"
      ],
      "metadata": {
        "id": "uDsVevxVUirY"
      }
    },
    {
      "cell_type": "code",
      "source": [
        "model.score(X, y)"
      ],
      "metadata": {
        "colab": {
          "base_uri": "https://localhost:8080/"
        },
        "id": "78v4SHGWUiZL",
        "outputId": "9de80907-b7cb-445d-8f62-b2f3266bd730"
      },
      "execution_count": 54,
      "outputs": [
        {
          "output_type": "execute_result",
          "data": {
            "text/plain": [
              "0.8907964318747388"
            ]
          },
          "metadata": {},
          "execution_count": 54
        }
      ]
    },
    {
      "cell_type": "markdown",
      "source": [
        "**№9. Визуализируйте результаты моделирования, сравните реальные и предсказанные значения.**\n"
      ],
      "metadata": {
        "id": "EMxFQeowU324"
      }
    },
    {
      "cell_type": "code",
      "source": [
        "plt.scatter(X.iloc[:, 0], y, color='green', marker='^') # реальные значения\n",
        "plt.scatter(X.iloc[:, 0], y_pred, color='red', marker='o') # предсказанные значения"
      ],
      "metadata": {
        "colab": {
          "base_uri": "https://localhost:8080/",
          "height": 447
        },
        "id": "fKO2JdsNUJ9q",
        "outputId": "bcce8e06-e26e-4140-c923-d69631a85f12"
      },
      "execution_count": 55,
      "outputs": [
        {
          "output_type": "execute_result",
          "data": {
            "text/plain": [
              "<matplotlib.collections.PathCollection at 0x7f38e8785f70>"
            ]
          },
          "metadata": {},
          "execution_count": 55
        },
        {
          "output_type": "display_data",
          "data": {
            "text/plain": [
              "<Figure size 640x480 with 1 Axes>"
            ],
            "image/png": "[encoded data removed]"
          },
          "metadata": {}
        }
      ]
    },
    {
      "cell_type": "code",
      "source": [
        "plt.scatter(X.iloc[:, 1], y, color='green', marker='^')   # реальные значения\n",
        "plt.scatter(X.iloc[:, 1], y_pred, color='red', marker='o')  # предсказанные значения"
      ],
      "metadata": {
        "colab": {
          "base_uri": "https://localhost:8080/",
          "height": 447
        },
        "id": "SndoOoNfU-C3",
        "outputId": "e1d99f14-ae2d-44a7-9096-7e7f97970ccc"
      },
      "execution_count": 56,
      "outputs": [
        {
          "output_type": "execute_result",
          "data": {
            "text/plain": [
              "<matplotlib.collections.PathCollection at 0x7f38e24bcca0>"
            ]
          },
          "metadata": {},
          "execution_count": 56
        },
        {
          "output_type": "display_data",
          "data": {
            "text/plain": [
              "<Figure size 640x480 with 1 Axes>"
            ],
            "image/png": "[encoded data removed]"
          },
          "metadata": {}
        }
      ]
    },
    {
      "cell_type": "code",
      "source": [
        "plt.scatter(X.iloc[:, 2], y, color='green', marker='^')   # реальные значения\n",
        "plt.scatter(X.iloc[:, 2], y_pred, color='red', marker='o')  # предсказанные значения"
      ],
      "metadata": {
        "colab": {
          "base_uri": "https://localhost:8080/",
          "height": 447
        },
        "id": "CfhIt2lUVAgn",
        "outputId": "5769b555-eea4-4def-90e8-0ef9822f6630"
      },
      "execution_count": 57,
      "outputs": [
        {
          "output_type": "execute_result",
          "data": {
            "text/plain": [
              "<matplotlib.collections.PathCollection at 0x7f38e29bd880>"
            ]
          },
          "metadata": {},
          "execution_count": 57
        },
        {
          "output_type": "display_data",
          "data": {
            "text/plain": [
              "<Figure size 640x480 with 1 Axes>"
            ],
            "image/png": "[encoded data removed]"
          },
          "metadata": {}
        }
      ]
    },
    {
      "cell_type": "code",
      "source": [
        "plt.scatter(X.iloc[:, 3], y, color='green', marker='^')   # реальные значения\n",
        "plt.scatter(X.iloc[:, 3], y_pred, color='red', marker='o')  # предсказанные значения"
      ],
      "metadata": {
        "colab": {
          "base_uri": "https://localhost:8080/",
          "height": 447
        },
        "id": "N0lmaiF6VCcH",
        "outputId": "062a4f72-f42d-4590-9b23-00c05e1931cf"
      },
      "execution_count": 58,
      "outputs": [
        {
          "output_type": "execute_result",
          "data": {
            "text/plain": [
              "<matplotlib.collections.PathCollection at 0x7f38e29bd730>"
            ]
          },
          "metadata": {},
          "execution_count": 58
        },
        {
          "output_type": "display_data",
          "data": {
            "text/plain": [
              "<Figure size 640x480 with 1 Axes>"
            ],
            "image/png": "[encoded data removed]"
          },
          "metadata": {}
        }
      ]
    },
    {
      "cell_type": "code",
      "source": [
        "plt.scatter(X.iloc[:, 4], y, color='green', marker='^')   # реальные значения\n",
        "plt.scatter(X.iloc[:, 4], y_pred, color='red', marker='o')  # предсказанные значения"
      ],
      "metadata": {
        "colab": {
          "base_uri": "https://localhost:8080/",
          "height": 447
        },
        "id": "YYpk9cAPfBry",
        "outputId": "3aa63f87-ec0d-45ed-8b37-4df9b90f84a4"
      },
      "execution_count": 61,
      "outputs": [
        {
          "output_type": "execute_result",
          "data": {
            "text/plain": [
              "<matplotlib.collections.PathCollection at 0x7f38e23539a0>"
            ]
          },
          "metadata": {},
          "execution_count": 61
        },
        {
          "output_type": "display_data",
          "data": {
            "text/plain": [
              "<Figure size 640x480 with 1 Axes>"
            ],
            "image/png": "[encoded data removed]"
          },
          "metadata": {}
        }
      ]
    },
    {
      "cell_type": "code",
      "source": [
        "plt.scatter(X.iloc[:, 5], y, color='green', marker='^')   # реальные значения\n",
        "plt.scatter(X.iloc[:, 5], y_pred, color='red', marker='o')  # предсказанные значения"
      ],
      "metadata": {
        "colab": {
          "base_uri": "https://localhost:8080/",
          "height": 447
        },
        "id": "KpGzFMXcfGdw",
        "outputId": "48df1cd6-66f4-4ae7-d242-b34dd5661e29"
      },
      "execution_count": 62,
      "outputs": [
        {
          "output_type": "execute_result",
          "data": {
            "text/plain": [
              "<matplotlib.collections.PathCollection at 0x7f38e2ce0e20>"
            ]
          },
          "metadata": {},
          "execution_count": 62
        },
        {
          "output_type": "display_data",
          "data": {
            "text/plain": [
              "<Figure size 640x480 with 1 Axes>"
            ],
            "image/png": "[encoded data removed]"
          },
          "metadata": {}
        }
      ]
    },
    {
      "cell_type": "code",
      "source": [
        "plt.scatter(X.iloc[:, 6], y, color='green', marker='^')   # реальные значения\n",
        "plt.scatter(X.iloc[:, 6], y_pred, color='red', marker='o')  # предсказанные значения"
      ],
      "metadata": {
        "colab": {
          "base_uri": "https://localhost:8080/",
          "height": 447
        },
        "id": "SuCfaH4mfJ9h",
        "outputId": "4bbbee9b-fc84-4ea6-80d7-0e0f8de728a0"
      },
      "execution_count": 63,
      "outputs": [
        {
          "output_type": "execute_result",
          "data": {
            "text/plain": [
              "<matplotlib.collections.PathCollection at 0x7f38e24321f0>"
            ]
          },
          "metadata": {},
          "execution_count": 63
        },
        {
          "output_type": "display_data",
          "data": {
            "text/plain": [
              "<Figure size 640x480 with 1 Axes>"
            ],
            "image/png": "[encoded data removed]"
          },
          "metadata": {}
        }
      ]
    },
    {
      "cell_type": "markdown",
      "source": [
        "**№10. Используйте несколько простых моделей машинного обучения. Сравните их эффективность между собой.**\n"
      ],
      "metadata": {
        "id": "Dbg0ekubVG2D"
      }
    },
    {
      "cell_type": "code",
      "source": [
        "from sklearn.ensemble import RandomForestRegressor\n",
        "\n",
        "forest_model = RandomForestRegressor()\n",
        "forest_model.fit(X, y)\n",
        "forest_model.score(X, y)"
      ],
      "metadata": {
        "colab": {
          "base_uri": "https://localhost:8080/"
        },
        "id": "0_p6PRtZVb_C",
        "outputId": "02ea0bb9-38f7-4e7f-f98d-60a802c0e74c"
      },
      "execution_count": 59,
      "outputs": [
        {
          "output_type": "execute_result",
          "data": {
            "text/plain": [
              "0.9759187600181998"
            ]
          },
          "metadata": {},
          "execution_count": 59
        }
      ]
    },
    {
      "cell_type": "code",
      "source": [
        "from sklearn.linear_model import Ridge\n",
        "\n",
        "ridge_model = Ridge()\n",
        "ridge_model.fit(X, y)\n",
        "ridge_model.score(X, y)"
      ],
      "metadata": {
        "colab": {
          "base_uri": "https://localhost:8080/"
        },
        "id": "H1_lgKIfVhwU",
        "outputId": "505bcf32-a87b-4b96-f120-88c0ce8dc208"
      },
      "execution_count": 60,
      "outputs": [
        {
          "output_type": "execute_result",
          "data": {
            "text/plain": [
              "0.8906271942440703"
            ]
          },
          "metadata": {},
          "execution_count": 60
        }
      ]
    }
  ]
}